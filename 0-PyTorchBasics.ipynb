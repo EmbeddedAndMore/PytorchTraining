{
 "cells": [
  {
   "cell_type": "markdown",
   "id": "e1b2d291",
   "metadata": {},
   "source": [
    "#### import pytorch"
   ]
  },
  {
   "cell_type": "code",
   "execution_count": 2,
   "id": "ec43f204",
   "metadata": {},
   "outputs": [],
   "source": [
    "import torch"
   ]
  },
  {
   "cell_type": "code",
   "execution_count": 10,
   "id": "abe542a3",
   "metadata": {},
   "outputs": [
    {
     "data": {
      "text/plain": [
       "'cpu'"
      ]
     },
     "execution_count": 10,
     "metadata": {},
     "output_type": "execute_result"
    }
   ],
   "source": [
    "device = \"cuda\" if torch.cuda.is_available() else \"cpu\"\n",
    "device"
   ]
  },
  {
   "cell_type": "markdown",
   "id": "064c4087",
   "metadata": {},
   "source": [
    "## create/Initialize a tensor\n",
    "A tensor is often thought of as a generalized matrix. That is, it could be a 1-D matrix (a vector is actually such a tensor), a 3-D matrix (something like a cube of numbers), even a 0-D matrix (a single number), or a higher dimensional structure that is harder to visualize. The dimension of the tensor is called its rank.\n",
    "```0d: 0\n",
    "1d: [1,2,3,4,5]\n",
    "2d (array inside array): [[1,2,3],[4,5,6]]\n",
    "3d (array of matrices):[[[1,2,3],[4,5,6]],[[7,8,9],[10,11,12]]]```\n",
    "\n",
    "`device`: is where this array will be and will be used. is `cuda` then the array will be inside the GPU's RAM. if `cpu` it will be in the man system's RAM\n",
    "\n",
    "`requires_grad`: if back-propagation will be run on this tensore this parameter should be true. basically for every hidden layer of a NN is a tensor which has `requires_grad=True` so that the parameters can be tuned using back-propagation."
   ]
  },
  {
   "cell_type": "code",
   "execution_count": 15,
   "id": "37f5ddc2",
   "metadata": {},
   "outputs": [
    {
     "name": "stdout",
     "output_type": "stream",
     "text": [
      "tensor([[1., 2., 3.],\n",
      "        [4., 5., 6.]], requires_grad=True)\n",
      "torch.float32\n",
      "cpu\n",
      "torch.Size([2, 3])\n",
      "True\n"
     ]
    }
   ],
   "source": [
    "my_tensor = torch.tensor([[1,2,3],[4,5,6]], dtype=torch.float32, device=device, requires_grad=True)\n",
    "print(my_tensor)\n",
    "print(my_tensor.dtype)\n",
    "print(my_tensor.device)\n",
    "print(my_tensor.shape)\n",
    "print(my_tensor.requires_grad)"
   ]
  },
  {
   "cell_type": "markdown",
   "id": "dffe57ee",
   "metadata": {},
   "source": [
    "#### Create an empty tensor with specific size\n",
    "`size`: specifies the size of tensor. here is 3x3 matrix\n",
    "`empty` means that the array is uninitialized. which mean any value might be there."
   ]
  },
  {
   "cell_type": "code",
   "execution_count": 18,
   "id": "8d97867b",
   "metadata": {},
   "outputs": [],
   "source": [
    "x = torch.empty(size=(3,3))"
   ]
  },
  {
   "cell_type": "markdown",
   "id": "18960c5b",
   "metadata": {},
   "source": [
    "#### Create an tensor with specific size and initialize it to zero (create a zero matrix)."
   ]
  },
  {
   "cell_type": "code",
   "execution_count": 21,
   "id": "49c1527b",
   "metadata": {},
   "outputs": [],
   "source": [
    "x = torch.zeros(size=(3,3))\n",
    "x = torch.ones(size=(3,3))"
   ]
  },
  {
   "cell_type": "markdown",
   "id": "15e4e3f3",
   "metadata": {},
   "source": [
    "#### Create an tensor with specific size and initialize it with random value (create a random tensor) from a uniform distribution."
   ]
  },
  {
   "cell_type": "code",
   "execution_count": null,
   "id": "35f96e49",
   "metadata": {},
   "outputs": [],
   "source": [
    "x = torch.rand(size=(3,3))"
   ]
  },
  {
   "cell_type": "markdown",
   "id": "f56fb04d",
   "metadata": {},
   "source": [
    "#### create an idenrtity matrix of size 5x5"
   ]
  },
  {
   "cell_type": "code",
   "execution_count": 25,
   "id": "2b25aec8",
   "metadata": {},
   "outputs": [
    {
     "data": {
      "text/plain": [
       "tensor([[1., 0., 0., 0., 0.],\n",
       "        [0., 1., 0., 0., 0.],\n",
       "        [0., 0., 1., 0., 0.],\n",
       "        [0., 0., 0., 1., 0.],\n",
       "        [0., 0., 0., 0., 1.]])"
      ]
     },
     "execution_count": 25,
     "metadata": {},
     "output_type": "execute_result"
    }
   ],
   "source": [
    "x = torch.eye(5)\n",
    "x"
   ]
  },
  {
   "cell_type": "markdown",
   "id": "fae81b71",
   "metadata": {},
   "source": [
    "#### create a 1-D tensor\n",
    "Returns a 1-D tensor of size `(end-start)/step` with values from the interval `[start, end)` taken with common difference step beginning from start."
   ]
  },
  {
   "cell_type": "code",
   "execution_count": 27,
   "id": "870908a6",
   "metadata": {},
   "outputs": [
    {
     "data": {
      "text/plain": [
       "tensor([0, 2, 4, 6, 8])"
      ]
     },
     "execution_count": 27,
     "metadata": {},
     "output_type": "execute_result"
    }
   ],
   "source": [
    "x = torch.arange(start=0, end=10, step=2)\n",
    "x"
   ]
  },
  {
   "cell_type": "code",
   "execution_count": 28,
   "id": "d54cb74f",
   "metadata": {},
   "outputs": [
    {
     "data": {
      "text/plain": [
       "tensor([10,  8,  6,  4,  2])"
      ]
     },
     "execution_count": 28,
     "metadata": {},
     "output_type": "execute_result"
    }
   ],
   "source": [
    "x = torch.arange(start=10, end=0, step=-2)\n",
    "x"
   ]
  },
  {
   "cell_type": "markdown",
   "id": "bacaf403",
   "metadata": {},
   "source": [
    "Returns a 1-D tensor of size `steps` which starts at `start` and ends at `end` (`[start,end]`) with `steps - 2` values in between with equal distance."
   ]
  },
  {
   "cell_type": "code",
   "execution_count": 30,
   "id": "9b42907e",
   "metadata": {},
   "outputs": [
    {
     "data": {
      "text/plain": [
       "tensor([0.0000, 0.1111, 0.2222, 0.3333, 0.4444, 0.5556, 0.6667, 0.7778, 0.8889,\n",
       "        1.0000])"
      ]
     },
     "execution_count": 30,
     "metadata": {},
     "output_type": "execute_result"
    }
   ],
   "source": [
    "x = torch.linspace(start=0, end=1, steps=10)\n",
    "x"
   ]
  },
  {
   "cell_type": "markdown",
   "id": "17b4b24c",
   "metadata": {},
   "source": [
    "#### careate an empty array and initialize it with value from a normally distributed number with `mean=0` and `standard deviation = 1`"
   ]
  },
  {
   "cell_type": "code",
   "execution_count": 32,
   "id": "eb45188a",
   "metadata": {},
   "outputs": [
    {
     "data": {
      "text/plain": [
       "tensor([[ 0.7108,  2.1428, -0.2380, -0.3756, -0.8186]])"
      ]
     },
     "execution_count": 32,
     "metadata": {},
     "output_type": "execute_result"
    }
   ],
   "source": [
    "torch.empty(size=(1,5)).normal_(mean=0, std=1)"
   ]
  },
  {
   "cell_type": "markdown",
   "id": "92269d52",
   "metadata": {},
   "source": [
    "#### careate an empty array and initialize it with value from a uniform distributed number with `mean=0` and `standard deviation = 1`"
   ]
  },
  {
   "cell_type": "code",
   "execution_count": 34,
   "id": "0f7f7b11",
   "metadata": {},
   "outputs": [
    {
     "data": {
      "text/plain": [
       "tensor([[0.6851, 0.2475, 0.6612, 0.2469, 0.7192]])"
      ]
     },
     "execution_count": 34,
     "metadata": {},
     "output_type": "execute_result"
    }
   ],
   "source": [
    "torch.empty(size=(1,5)).uniform_(0,1)"
   ]
  },
  {
   "cell_type": "markdown",
   "id": "1aa66d86",
   "metadata": {},
   "source": [
    "The normal distribution is bell-shaped, which means value near the center of the distribution are more likely to occur as opposed to values on the tails of the distribution.\n",
    "The uniform distribution is rectangular-shaped, which means every value in the distribution is equally likely to occur.\n",
    "\n",
    "<img src='normal_uniform.JPG' />"
   ]
  },
  {
   "cell_type": "markdown",
   "id": "2ebe1b6f",
   "metadata": {},
   "source": [
    "#### Create a diagonal matrix\n",
    "the diagonal values should be passed as vector"
   ]
  },
  {
   "cell_type": "code",
   "execution_count": 35,
   "id": "838dba2f",
   "metadata": {},
   "outputs": [
    {
     "data": {
      "text/plain": [
       "tensor([[1., 0., 0.],\n",
       "        [0., 1., 0.],\n",
       "        [0., 0., 1.]])"
      ]
     },
     "execution_count": 35,
     "metadata": {},
     "output_type": "execute_result"
    }
   ],
   "source": [
    "torch.diag(torch.ones(3))"
   ]
  },
  {
   "cell_type": "markdown",
   "id": "494ed137",
   "metadata": {},
   "source": [
    "## conver types of initialized tensor"
   ]
  },
  {
   "cell_type": "code",
   "execution_count": 38,
   "id": "b2b9c89c",
   "metadata": {},
   "outputs": [
    {
     "data": {
      "text/plain": [
       "tensor([0, 1, 2, 3])"
      ]
     },
     "execution_count": 38,
     "metadata": {},
     "output_type": "execute_result"
    }
   ],
   "source": [
    "tens = torch.arange(4)\n",
    "tens"
   ]
  },
  {
   "cell_type": "code",
   "execution_count": 39,
   "id": "d74155c3",
   "metadata": {},
   "outputs": [
    {
     "data": {
      "text/plain": [
       "tensor([False,  True,  True,  True])"
      ]
     },
     "execution_count": 39,
     "metadata": {},
     "output_type": "execute_result"
    }
   ],
   "source": [
    "tens.bool()"
   ]
  },
  {
   "cell_type": "code",
   "execution_count": 40,
   "id": "de746be6",
   "metadata": {},
   "outputs": [
    {
     "data": {
      "text/plain": [
       "tensor([0, 1, 2, 3], dtype=torch.int16)"
      ]
     },
     "execution_count": 40,
     "metadata": {},
     "output_type": "execute_result"
    }
   ],
   "source": [
    "tens.short() # convert to int16"
   ]
  },
  {
   "cell_type": "code",
   "execution_count": 42,
   "id": "030d13f7",
   "metadata": {},
   "outputs": [
    {
     "data": {
      "text/plain": [
       "tensor([0, 1, 2, 3])"
      ]
     },
     "execution_count": 42,
     "metadata": {},
     "output_type": "execute_result"
    }
   ],
   "source": [
    "tens.long() # convert to int64"
   ]
  },
  {
   "cell_type": "code",
   "execution_count": 44,
   "id": "b0385679",
   "metadata": {},
   "outputs": [
    {
     "data": {
      "text/plain": [
       "tensor([0., 1., 2., 3.], dtype=torch.float16)"
      ]
     },
     "execution_count": 44,
     "metadata": {},
     "output_type": "execute_result"
    }
   ],
   "source": [
    "tens.half() # convert to float16"
   ]
  },
  {
   "cell_type": "code",
   "execution_count": 45,
   "id": "eaf0e881",
   "metadata": {},
   "outputs": [
    {
     "data": {
      "text/plain": [
       "tensor([0., 1., 2., 3.])"
      ]
     },
     "execution_count": 45,
     "metadata": {},
     "output_type": "execute_result"
    }
   ],
   "source": [
    "tens.float() # convert to floar32"
   ]
  },
  {
   "cell_type": "code",
   "execution_count": 46,
   "id": "5f17eaa2",
   "metadata": {},
   "outputs": [
    {
     "data": {
      "text/plain": [
       "tensor([0., 1., 2., 3.], dtype=torch.float64)"
      ]
     },
     "execution_count": 46,
     "metadata": {},
     "output_type": "execute_result"
    }
   ],
   "source": [
    "tens.double() # convert to floar64"
   ]
  },
  {
   "cell_type": "markdown",
   "id": "92e01606",
   "metadata": {},
   "source": [
    "## Conversino from numpy array to torch tensor "
   ]
  },
  {
   "cell_type": "code",
   "execution_count": 47,
   "id": "39c03583",
   "metadata": {},
   "outputs": [],
   "source": [
    "import numpy as np"
   ]
  },
  {
   "cell_type": "code",
   "execution_count": 53,
   "id": "67352145",
   "metadata": {},
   "outputs": [
    {
     "data": {
      "text/plain": [
       "(array([[1, 2, 3],\n",
       "        [4, 5, 6]]),\n",
       " tensor([[1, 2, 3],\n",
       "         [4, 5, 6]], dtype=torch.int32),\n",
       " array([[1, 2, 3],\n",
       "        [4, 5, 6]]))"
      ]
     },
     "execution_count": 53,
     "metadata": {},
     "output_type": "execute_result"
    }
   ],
   "source": [
    "np_array = np.array([[1,2,3],[4,5,6]])\n",
    "tensor = torch.from_numpy(np_array)\n",
    "np_array_back = tensor.numpy()\n",
    "np_array, tensor, np_array_back"
   ]
  },
  {
   "cell_type": "markdown",
   "id": "0148e1c9",
   "metadata": {},
   "source": [
    "## Tensor operations"
   ]
  },
  {
   "cell_type": "code",
   "execution_count": 83,
   "id": "e8ae10b2",
   "metadata": {},
   "outputs": [],
   "source": [
    "x = torch.tensor([1,2,3])\n",
    "y = torch.tensor([4,5,6])"
   ]
  },
  {
   "cell_type": "markdown",
   "id": "d3fcef8c",
   "metadata": {},
   "source": [
    "#### add"
   ]
  },
  {
   "cell_type": "code",
   "execution_count": 56,
   "id": "3c37aa38",
   "metadata": {},
   "outputs": [
    {
     "data": {
      "text/plain": [
       "(tensor([5, 7, 9]), tensor([5, 7, 9]))"
      ]
     },
     "execution_count": 56,
     "metadata": {},
     "output_type": "execute_result"
    }
   ],
   "source": [
    "add1 = torch.add(x,y)\n",
    "add2 = x + y\n",
    "add1, add2"
   ]
  },
  {
   "cell_type": "markdown",
   "id": "230985f0",
   "metadata": {},
   "source": [
    "#### Subtract"
   ]
  },
  {
   "cell_type": "code",
   "execution_count": 57,
   "id": "a05a3a88",
   "metadata": {},
   "outputs": [
    {
     "data": {
      "text/plain": [
       "(tensor([-3, -3, -3]), tensor([-3, -3, -3]))"
      ]
     },
     "execution_count": 57,
     "metadata": {},
     "output_type": "execute_result"
    }
   ],
   "source": [
    "sub1 = torch.subtract(x,y)\n",
    "sub2 = x - y\n",
    "sub1, sub2"
   ]
  },
  {
   "cell_type": "markdown",
   "id": "ea654473",
   "metadata": {},
   "source": [
    "#### divide"
   ]
  },
  {
   "cell_type": "code",
   "execution_count": 60,
   "id": "9b476503",
   "metadata": {},
   "outputs": [
    {
     "data": {
      "text/plain": [
       "(tensor([0.2500, 0.4000, 0.5000]), tensor([0.2500, 0.4000, 0.5000]))"
      ]
     },
     "execution_count": 60,
     "metadata": {},
     "output_type": "execute_result"
    }
   ],
   "source": [
    "div1 = torch.true_divide(x,y)\n",
    "div2 = x /y\n",
    "div1, div2"
   ]
  },
  {
   "cell_type": "code",
   "execution_count": 61,
   "id": "37401149",
   "metadata": {},
   "outputs": [
    {
     "data": {
      "text/plain": [
       "(tensor([1., 2., 3.]), tensor([1., 2., 3.]))"
      ]
     },
     "execution_count": 61,
     "metadata": {},
     "output_type": "execute_result"
    }
   ],
   "source": [
    "t1 = torch.zeros(3)\n",
    "t1.add_(x)\n",
    "t2 = torch.zeros(3)\n",
    "t2 += x\n",
    "t1, t2"
   ]
  },
  {
   "cell_type": "markdown",
   "id": "c3bef71c",
   "metadata": {},
   "source": [
    "#### Exponentiation "
   ]
  },
  {
   "cell_type": "code",
   "execution_count": 67,
   "id": "75b31377",
   "metadata": {},
   "outputs": [
    {
     "data": {
      "text/plain": [
       "(tensor([1, 4, 9]), tensor([1, 4, 9]))"
      ]
     },
     "execution_count": 67,
     "metadata": {},
     "output_type": "execute_result"
    }
   ],
   "source": [
    "po1 = x.pow(2)\n",
    "po2 = x**2\n",
    "po1, po2"
   ]
  },
  {
   "cell_type": "markdown",
   "id": "53a7f056",
   "metadata": {},
   "source": [
    "#### Comparision"
   ]
  },
  {
   "cell_type": "code",
   "execution_count": 69,
   "id": "a1f208e9",
   "metadata": {},
   "outputs": [
    {
     "data": {
      "text/plain": [
       "(tensor([True, True, True]), tensor([False, False, False]))"
      ]
     },
     "execution_count": 69,
     "metadata": {},
     "output_type": "execute_result"
    }
   ],
   "source": [
    "comp1 = x > 0\n",
    "comp2 = y < 0\n",
    "comp1, comp2"
   ]
  },
  {
   "cell_type": "markdown",
   "id": "1981c2fd",
   "metadata": {},
   "source": [
    "#### Matrix multiplication"
   ]
  },
  {
   "cell_type": "code",
   "execution_count": 87,
   "id": "179d95d3",
   "metadata": {},
   "outputs": [
    {
     "data": {
      "text/plain": [
       "(tensor([[ 32,  50],\n",
       "         [ 77, 122]]),\n",
       " tensor([[ 32,  50],\n",
       "         [ 77, 122]]))"
      ]
     },
     "execution_count": 87,
     "metadata": {},
     "output_type": "execute_result"
    }
   ],
   "source": [
    "x1 = torch.tensor([[1,2,3],[4,5,6]])\n",
    "y1 = torch.tensor([[4,5,6],[7,8,9]])\n",
    "mm1 = x1.mm(y1.T)\n",
    "mm2 = x1 @ y1.T\n",
    "mm1, mm2"
   ]
  },
  {
   "cell_type": "markdown",
   "id": "ba83d5c1",
   "metadata": {},
   "source": [
    "#### element wise mult"
   ]
  },
  {
   "cell_type": "code",
   "execution_count": 81,
   "id": "06bca1a5",
   "metadata": {},
   "outputs": [
    {
     "data": {
      "text/plain": [
       "tensor([[ 4, 10, 18],\n",
       "        [28, 40, 54]])"
      ]
     },
     "execution_count": 81,
     "metadata": {},
     "output_type": "execute_result"
    }
   ],
   "source": [
    "x1 * y1"
   ]
  },
  {
   "cell_type": "markdown",
   "id": "0692b2e4",
   "metadata": {},
   "source": [
    "#### dot product"
   ]
  },
  {
   "cell_type": "code",
   "execution_count": 84,
   "id": "0816b6d8",
   "metadata": {},
   "outputs": [
    {
     "data": {
      "text/plain": [
       "tensor(32)"
      ]
     },
     "execution_count": 84,
     "metadata": {},
     "output_type": "execute_result"
    }
   ],
   "source": [
    "torch.dot(x, y)"
   ]
  },
  {
   "cell_type": "code",
   "execution_count": 95,
   "id": "4c643652",
   "metadata": {},
   "outputs": [
    {
     "name": "stdout",
     "output_type": "stream",
     "text": [
      "sum_x:  tensor([ 6, 15])\n",
      "min_x:  torch.return_types.min(\n",
      "values=tensor([1, 2, 3]),\n",
      "indices=tensor([0, 0, 0]))\n",
      "max_x:  tensor(6)\n"
     ]
    }
   ],
   "source": [
    "# dim=0 : row, dim=1 column if no `dim` is passed it is applied on whole matrix\n",
    "sum_x = torch.sum(x1, dim=1)\n",
    "min_x = torch.min(x1, dim=0)\n",
    "max_x = torch.max(x1)\n",
    "\n",
    "print(\"sum_x: \", sum_x)\n",
    "print(\"min_x: \", min_x)\n",
    "print(\"max_x: \", max_x)"
   ]
  },
  {
   "cell_type": "code",
   "execution_count": 97,
   "id": "825276f4",
   "metadata": {},
   "outputs": [
    {
     "data": {
      "text/plain": [
       "tensor([[False, False, False],\n",
       "        [False, False, False]])"
      ]
     },
     "execution_count": 97,
     "metadata": {},
     "output_type": "execute_result"
    }
   ],
   "source": [
    "abs_x = torch.abs(x) # elementwise abolute value\n",
    "idx_max = torch.argmax(x1, dim=0) # index of max element\n",
    "idx_min = torch.argmin(x1, dim=0) # index of min element\n",
    "\n",
    "mean_x = torch.mean(x1.float(), dim=1) # mean of all values in dim=1\n",
    "eq_xy = torch.eq(x1,y1)\n",
    "\n",
    "eq_xy"
   ]
  },
  {
   "cell_type": "code",
   "execution_count": 101,
   "id": "75ce8696",
   "metadata": {},
   "outputs": [
    {
     "data": {
      "text/plain": [
       "(tensor([[3, 2, 1],\n",
       "         [6, 5, 4]]),\n",
       " tensor([[2, 1, 0],\n",
       "         [2, 1, 0]]))"
      ]
     },
     "execution_count": 101,
     "metadata": {},
     "output_type": "execute_result"
    }
   ],
   "source": [
    "sorted_value, indices = torch.sort(x1, dim=1, descending=True) # sort values in given dimention\n",
    "sorted_value, indices"
   ]
  },
  {
   "cell_type": "code",
   "execution_count": 103,
   "id": "684f43d3",
   "metadata": {},
   "outputs": [
    {
     "data": {
      "text/plain": [
       "tensor([[2, 2, 3],\n",
       "        [4, 5, 5]])"
      ]
     },
     "execution_count": 103,
     "metadata": {},
     "output_type": "execute_result"
    }
   ],
   "source": [
    "# clamp values between min and max. if lower than min then min, if upper than max then max\n",
    "clamped_val = torch.clamp(x1, min=2, max=5) \n",
    "clamped_val"
   ]
  },
  {
   "cell_type": "code",
   "execution_count": 104,
   "id": "9ce30370",
   "metadata": {},
   "outputs": [
    {
     "data": {
      "text/plain": [
       "tensor(True)"
      ]
     },
     "execution_count": 104,
     "metadata": {},
     "output_type": "execute_result"
    }
   ],
   "source": [
    "torch.any(x1) # if any of values is True (not False or zero)"
   ]
  },
  {
   "cell_type": "code",
   "execution_count": 105,
   "id": "7cc830e9",
   "metadata": {},
   "outputs": [
    {
     "data": {
      "text/plain": [
       "tensor(True)"
      ]
     },
     "execution_count": 105,
     "metadata": {},
     "output_type": "execute_result"
    }
   ],
   "source": [
    "torch.all(x1) # if all of values is True (not False or zero)"
   ]
  },
  {
   "cell_type": "markdown",
   "id": "8e0ccedd",
   "metadata": {},
   "source": [
    "## Indexing"
   ]
  },
  {
   "cell_type": "code",
   "execution_count": 112,
   "id": "39b08862",
   "metadata": {},
   "outputs": [
    {
     "data": {
      "text/plain": [
       "tensor([[ 0,  1,  2,  3,  4],\n",
       "        [ 5,  6,  7,  8,  9],\n",
       "        [10, 11, 12, 13, 14],\n",
       "        [15, 16, 17, 18, 19],\n",
       "        [20, 21, 22, 23, 24]])"
      ]
     },
     "execution_count": 112,
     "metadata": {},
     "output_type": "execute_result"
    }
   ],
   "source": [
    "mat1 = torch.arange(25).reshape(5,5)\n",
    "mat1"
   ]
  },
  {
   "cell_type": "code",
   "execution_count": 113,
   "id": "bfb3ad04",
   "metadata": {},
   "outputs": [
    {
     "data": {
      "text/plain": [
       "tensor([0, 1, 2, 3, 4])"
      ]
     },
     "execution_count": 113,
     "metadata": {},
     "output_type": "execute_result"
    }
   ],
   "source": [
    "# only row index 0\n",
    "mat1[0, :]"
   ]
  },
  {
   "cell_type": "code",
   "execution_count": 114,
   "id": "fe92ae5f",
   "metadata": {},
   "outputs": [
    {
     "data": {
      "text/plain": [
       "tensor([[ 5,  6,  7,  8,  9],\n",
       "        [10, 11, 12, 13, 14]])"
      ]
     },
     "execution_count": 114,
     "metadata": {},
     "output_type": "execute_result"
    }
   ],
   "source": [
    "# rows index 1 and 2 (we have to set 1:3 because it is like [1,3) )\n",
    "mat1[1:3, :]"
   ]
  },
  {
   "cell_type": "code",
   "execution_count": 115,
   "id": "e12ce816",
   "metadata": {},
   "outputs": [
    {
     "data": {
      "text/plain": [
       "tensor([[ 6,  7,  8],\n",
       "        [11, 12, 13]])"
      ]
     },
     "execution_count": 115,
     "metadata": {},
     "output_type": "execute_result"
    }
   ],
   "source": [
    "# rows index 1 and 2 and columns 1 to 3\n",
    "mat1[1:3, 1:4]"
   ]
  },
  {
   "cell_type": "code",
   "execution_count": 116,
   "id": "d17415f6",
   "metadata": {},
   "outputs": [
    {
     "data": {
      "text/plain": [
       "tensor([[ 5,  6,  7,  8,  9],\n",
       "        [15, 16, 17, 18, 19]])"
      ]
     },
     "execution_count": 116,
     "metadata": {},
     "output_type": "execute_result"
    }
   ],
   "source": [
    "# rows index 1 and 3\n",
    "mat1[[1,3],:]"
   ]
  },
  {
   "cell_type": "markdown",
   "id": "2603d4e1",
   "metadata": {},
   "source": [
    "#### Condition to select values"
   ]
  },
  {
   "cell_type": "code",
   "execution_count": 119,
   "id": "3231aa40",
   "metadata": {},
   "outputs": [
    {
     "data": {
      "text/plain": [
       "tensor([ 0,  1,  2,  3,  4,  5,  6,  7,  8,  9, 10, 11, 12, 13, 14])"
      ]
     },
     "execution_count": 119,
     "metadata": {},
     "output_type": "execute_result"
    }
   ],
   "source": [
    "mat1[mat1 < 15]"
   ]
  },
  {
   "cell_type": "code",
   "execution_count": 122,
   "id": "d1c51d19",
   "metadata": {},
   "outputs": [
    {
     "data": {
      "text/plain": [
       "tensor([ 0,  1,  2,  3,  4,  5,  6,  7,  8,  9, 21, 22, 23, 24])"
      ]
     },
     "execution_count": 122,
     "metadata": {},
     "output_type": "execute_result"
    }
   ],
   "source": [
    "mat1[(mat1 < 10) | (mat1 > 20)]"
   ]
  },
  {
   "cell_type": "code",
   "execution_count": 123,
   "id": "18a99982",
   "metadata": {},
   "outputs": [
    {
     "data": {
      "text/plain": [
       "tensor([ 0,  2,  4,  6,  8, 10, 12, 14, 16, 18, 20, 22, 24])"
      ]
     },
     "execution_count": 123,
     "metadata": {},
     "output_type": "execute_result"
    }
   ],
   "source": [
    "mat1[mat1.remainder(2)==0]"
   ]
  },
  {
   "cell_type": "code",
   "execution_count": 125,
   "id": "efce739e",
   "metadata": {},
   "outputs": [
    {
     "data": {
      "text/plain": [
       "(tensor([3, 3, 3, 3, 4, 4, 4, 4, 4]), tensor([1, 2, 3, 4, 0, 1, 2, 3, 4]))"
      ]
     },
     "execution_count": 125,
     "metadata": {},
     "output_type": "execute_result"
    }
   ],
   "source": [
    "rows, cols = torch.where(mat1 > 15) # index where the condition fulfills\n",
    "rows, cols"
   ]
  },
  {
   "cell_type": "code",
   "execution_count": 126,
   "id": "38c2061f",
   "metadata": {},
   "outputs": [
    {
     "data": {
      "text/plain": [
       "tensor([[  0,   1,   4,   9,  16],\n",
       "        [ 25,  36,  49,  64,  81],\n",
       "        [100, 121, 144, 169, 196],\n",
       "        [225,  16,  17,  18,  19],\n",
       "        [ 20,  21,  22,  23,  24]])"
      ]
     },
     "execution_count": 126,
     "metadata": {},
     "output_type": "execute_result"
    }
   ],
   "source": [
    " # where mat1 is bigger than 15 return that value, else power of 2\n",
    "torch.where(mat1 > 15, mat1, mat1**2)"
   ]
  },
  {
   "cell_type": "markdown",
   "id": "745afbdb",
   "metadata": {},
   "source": [
    "## Reshape tensor"
   ]
  },
  {
   "cell_type": "code",
   "execution_count": 133,
   "id": "cbf5d7f8",
   "metadata": {},
   "outputs": [
    {
     "data": {
      "text/plain": [
       "tensor([0, 1, 2, 3, 4, 5, 6, 7, 8])"
      ]
     },
     "execution_count": 133,
     "metadata": {},
     "output_type": "execute_result"
    }
   ],
   "source": [
    "x = torch.arange(9)\n",
    "x"
   ]
  },
  {
   "cell_type": "code",
   "execution_count": 134,
   "id": "3a98a031",
   "metadata": {},
   "outputs": [
    {
     "data": {
      "text/plain": [
       "tensor([[0, 1, 2],\n",
       "        [3, 4, 5],\n",
       "        [6, 7, 8]])"
      ]
     },
     "execution_count": 134,
     "metadata": {},
     "output_type": "execute_result"
    }
   ],
   "source": [
    "# does not create anothe memory with 3x3 size but shows 1x9 as 3x3 (no performance loss)\n",
    "x_3_3 = x.view(3,3) \n",
    "x_3_3"
   ]
  },
  {
   "cell_type": "code",
   "execution_count": 135,
   "id": "dc19aa09",
   "metadata": {},
   "outputs": [
    {
     "data": {
      "text/plain": [
       "tensor([[0, 1, 2],\n",
       "        [3, 4, 5],\n",
       "        [6, 7, 8]])"
      ]
     },
     "execution_count": 135,
     "metadata": {},
     "output_type": "execute_result"
    }
   ],
   "source": [
    "# Copy values to 3x3 memory (performance loss)\n",
    "x_3_3 = x.reshape(3,3) \n",
    "x_3_3"
   ]
  },
  {
   "cell_type": "code",
   "execution_count": 136,
   "id": "3402c238",
   "metadata": {},
   "outputs": [
    {
     "data": {
      "text/plain": [
       "tensor([[0, 3, 6],\n",
       "        [1, 4, 7],\n",
       "        [2, 5, 8]])"
      ]
     },
     "execution_count": 136,
     "metadata": {},
     "output_type": "execute_result"
    }
   ],
   "source": [
    "x_3_3.T # Transpose"
   ]
  },
  {
   "cell_type": "code",
   "execution_count": 142,
   "id": "8bb4b361",
   "metadata": {},
   "outputs": [
    {
     "data": {
      "text/plain": [
       "(tensor([0, 1, 2, 3, 4]),\n",
       " tensor([5, 6, 7, 8, 9]),\n",
       " torch.Size([5]),\n",
       " torch.Size([5]))"
      ]
     },
     "execution_count": 142,
     "metadata": {},
     "output_type": "execute_result"
    }
   ],
   "source": [
    "x1 = torch.arange(0,5)\n",
    "x2 = torch.arange(5,10)\n",
    "x1, x2, x1.shape, x2.shape"
   ]
  },
  {
   "cell_type": "code",
   "execution_count": 138,
   "id": "90e8a852",
   "metadata": {},
   "outputs": [
    {
     "data": {
      "text/plain": [
       "tensor([0, 1, 2, 3, 4, 5, 6, 7, 8, 9])"
      ]
     },
     "execution_count": 138,
     "metadata": {},
     "output_type": "execute_result"
    }
   ],
   "source": [
    "# concatenate 2 tensors\n",
    "torch.cat((x1, x2), dim=0)"
   ]
  },
  {
   "cell_type": "code",
   "execution_count": 140,
   "id": "23ccc205",
   "metadata": {},
   "outputs": [
    {
     "ename": "IndexError",
     "evalue": "Dimension out of range (expected to be in range of [-1, 0], but got 1)",
     "output_type": "error",
     "traceback": [
      "\u001b[1;31m---------------------------------------------------------------------------\u001b[0m",
      "\u001b[1;31mIndexError\u001b[0m                                Traceback (most recent call last)",
      "Input \u001b[1;32mIn [140]\u001b[0m, in \u001b[0;36m<cell line: 1>\u001b[1;34m()\u001b[0m\n\u001b[1;32m----> 1\u001b[0m \u001b[43mtorch\u001b[49m\u001b[38;5;241;43m.\u001b[39;49m\u001b[43mcat\u001b[49m\u001b[43m(\u001b[49m\u001b[43m(\u001b[49m\u001b[43mx1\u001b[49m\u001b[43m,\u001b[49m\u001b[43m \u001b[49m\u001b[43mx2\u001b[49m\u001b[43m)\u001b[49m\u001b[43m,\u001b[49m\u001b[43m \u001b[49m\u001b[43mdim\u001b[49m\u001b[38;5;241;43m=\u001b[39;49m\u001b[38;5;241;43m1\u001b[39;49m\u001b[43m)\u001b[49m\n",
      "\u001b[1;31mIndexError\u001b[0m: Dimension out of range (expected to be in range of [-1, 0], but got 1)"
     ]
    }
   ],
   "source": [
    "torch.cat((x1, x2), dim=1) # not gonna work since we don't have row in our shape"
   ]
  },
  {
   "cell_type": "code",
   "execution_count": 144,
   "id": "b1ed9dd1",
   "metadata": {},
   "outputs": [
    {
     "data": {
      "text/plain": [
       "tensor([[0, 1, 2, 3, 4],\n",
       "        [5, 6, 7, 8, 9]])"
      ]
     },
     "execution_count": 144,
     "metadata": {},
     "output_type": "execute_result"
    }
   ],
   "source": [
    "x1 = x1.reshape(1,5)\n",
    "x2 = x2.reshape(1,5)\n",
    "torch.cat((x1, x2), dim=0)"
   ]
  },
  {
   "cell_type": "code",
   "execution_count": null,
   "id": "61169863",
   "metadata": {},
   "outputs": [],
   "source": []
  }
 ],
 "metadata": {
  "kernelspec": {
   "display_name": "Python 3 (ipykernel)",
   "language": "python",
   "name": "python3"
  },
  "language_info": {
   "codemirror_mode": {
    "name": "ipython",
    "version": 3
   },
   "file_extension": ".py",
   "mimetype": "text/x-python",
   "name": "python",
   "nbconvert_exporter": "python",
   "pygments_lexer": "ipython3",
   "version": "3.9.5"
  }
 },
 "nbformat": 4,
 "nbformat_minor": 5
}
